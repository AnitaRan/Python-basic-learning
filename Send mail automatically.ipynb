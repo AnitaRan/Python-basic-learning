{
 "cells": [
  {
   "cell_type": "markdown",
   "metadata": {},
   "source": [
    "# 自动发送邮件"
   ]
  },
  {
   "cell_type": "markdown",
   "metadata": {},
   "source": [
    "使用Python内置的smtplib和email两个模块，实现邮件的自动发送。"
   ]
  },
  {
   "cell_type": "markdown",
   "metadata": {},
   "source": [
    "## 配置邮箱\n",
    "在使用Python发送邮件之前我们需要获取发件邮箱的认证，在获取认证这一块我们需要两步：\n",
    "\n",
    "第一步：配置发件邮箱账户以及密码\n",
    "\n",
    "第二步：根据根据邮箱获取授权码\n",
    "\n",
    "这两步都需要在电子邮箱的账户配置中设置，这里我们以QQ邮箱为例进行配置。\n",
    "\n",
    "首先，登陆邮箱找到设置-->账户：\n",
    "\n",
    "然后，向下滑动找到POP3开头的选项，并开启下图中两个选项，然后会有授权码，请将其保存好：\n",
    "配置好以后，我们就可以使用Python进行设置邮件的内容，最后发送邮件了。"
   ]
  },
  {
   "cell_type": "markdown",
   "metadata": {},
   "source": [
    "##  了解smtplib和email\n",
    "一、SMTP是Python中用于由源地址到目的地址传送邮件的传输协议。smtplib模块对该协议进行封装，从而提供了一种很方便的发送电子邮件的方法。\n",
    "\n",
    "    - 第一步，在发送邮件之前，创建一个服务对象。\n",
    "\n",
    "import smtplib\n",
    "server = smtplib.SMTP_SSL(host , port )\n",
    "    \n",
    "    host：SMTP服务器主机。\n",
    "\n",
    "    port：指定 SMTP 服务使用的端口号，一般情况下 SMTP 端口号为25, ssl加密传输的话端口就是465\n",
    "\n",
    "    - 第二步，登陆服务器邮箱：\n",
    "\n",
    "server.login(from_addr, password)\n",
    "    \n",
    "    from_addr：发件人邮箱地址。\n",
    "\n",
    "    password：邮箱密码，配置时的授权码。\n",
    "\n",
    "    - 第三步，发送邮件：\n",
    "\n",
    "server.sendmail(from_addr, [to_addr], message.as_string())\n",
    "\n",
    "    from_addr：发件人的邮箱地址。\n",
    "\n",
    "    to_addr：收件人的邮箱（列表形式）。\n",
    "\n",
    "    message.as_string()：把邮件内容MIMEText对象变成str。\n",
    "    \n",
    "二、email模块主要负责构造邮件，例如，邮件头信息中的发件人、收件人、以及主题和时间等，邮件体信息中的附件、使用html书写邮件、图片等等，我们都需要使用email模块。"
   ]
  },
  {
   "cell_type": "code",
   "execution_count": null,
   "metadata": {},
   "outputs": [],
   "source": [
    "# 用来发送邮件，包括构建邮件服务、登录、发送、退出等动作\n",
    "import smtplib\n",
    "# 构建邮件头信息，包括发件人、接收人、标题等\n",
    "from email.mime.multipart import MIMEMultipart\n",
    "# 构建邮件正文，可以使text或HTML\n",
    "from email.mime.text import MIMEText\n",
    "# 构建邮件标题的，可以支持标题中文\n",
    "from email.header import Header\n",
    "# 构建邮件附件\n",
    "from email.mime.application import MIMEApplication"
   ]
  },
  {
   "cell_type": "markdown",
   "metadata": {},
   "source": [
    "### 第一步，邮箱配置"
   ]
  },
  {
   "cell_type": "code",
   "execution_count": null,
   "metadata": {},
   "outputs": [],
   "source": [
    "# 发送邮箱地址\n",
    "from_addr = '1562268871@qq.com'\n",
    "\n",
    "# 邮箱授权码，非登录密码\n",
    "password = ''\n",
    "\n",
    "# 收件箱地址，可以发多人\n",
    "to_addr = ['','','']\n",
    "\n",
    "# 邮箱服务器地址SMTPserver\n",
    "smtp_server = 'smtp.qq.com'\n",
    "\n"
   ]
  },
  {
   "cell_type": "markdown",
   "metadata": {},
   "source": [
    "### 第二步，邮件内容设置"
   ]
  },
  {
   "cell_type": "code",
   "execution_count": null,
   "metadata": {},
   "outputs": [],
   "source": [
    "# 创建一个邮件信息的对象\n",
    "message = MIMEMultipart()\n",
    "\n",
    "# 发送邮箱地址\n",
    "message['From'] = from_addr\n",
    "\n",
    "#收件箱地址\n",
    "message['To'] = ';'.join(to_addr)\n",
    "\n",
    "#主题\n",
    "message['Subject'] = '邮件标题'\n",
    "\n",
    "# 分别为邮件内容MIME的subtype类型编码格式\n",
    "content_text = MIMEText('测试邮件文本','plain','utf-8')\n",
    "\n",
    "message.attach(content_text)"
   ]
  },
  {
   "cell_type": "markdown",
   "metadata": {},
   "source": [
    "### 第三步，邮件发送"
   ]
  },
  {
   "cell_type": "code",
   "execution_count": null,
   "metadata": {},
   "outputs": [],
   "source": [
    "try:\n",
    "    # SMTP协议加密端口是465\n",
    "    server = smtplib.SMTP_SSL(smtp_server,465)\n",
    "    \n",
    "    # 登录服务器邮箱\n",
    "    server.login(from_addr,password)\n",
    "    \n",
    "    # 发送邮件\n",
    "    server.sendmail(from_addr,to_addr,message.as_string())\n",
    "    \n",
    "    # 退出服务器邮箱\n",
    "    server.quit()\n",
    "    \n",
    "    print('邮件发送成功')\n",
    "    \n",
    "except smtplib.SMTPException as e:\n",
    "    server.quit()\n",
    "    print('error',e)\n",
    "    "
   ]
  },
  {
   "cell_type": "markdown",
   "metadata": {},
   "source": [
    "##  发送带有附件的邮件"
   ]
  },
  {
   "cell_type": "code",
   "execution_count": null,
   "metadata": {},
   "outputs": [],
   "source": [
    "from email.mime.image import MIMEImage\n",
    "import os\n",
    "\n",
    "# 创建一个邮件信息的对象\n",
    "message = MIMEMultipart()\n",
    "\n",
    "# 发送邮箱地址\n",
    "message['From'] = from_addr\n",
    "\n",
    "#收件箱地址\n",
    "message['To'] = ';'.join(to_addr)\n",
    "\n",
    "#主题\n",
    "message['Subject'] = '邮件标题'\n",
    "\n",
    "# 附件本地路径\n",
    "imageFile = 'E:/Jupyter-notebook/数据分析基础/output/a.png'\n",
    "\n",
    "# 添加图片附件内容\n",
    "with open(imageFile,'rb') as fb:\n",
    "    imageApart = MIMEImage(fp.read())\n",
    "\n",
    "# 设置附件头信息，filename的设置是解决中文乱码问题\n",
    "imageApart.add_header('Content-Disposition','attachment',filename=('utf-8','',os.path.basename(imageFile)))\n",
    "\n",
    "# 将内容附加到邮件主体中\n",
    "message.attach(imageApart)"
   ]
  },
  {
   "cell_type": "markdown",
   "metadata": {},
   "source": [
    "## 发送html格式的邮件"
   ]
  },
  {
   "cell_type": "code",
   "execution_count": null,
   "metadata": {},
   "outputs": [],
   "source": [
    "# 创建一个邮件信息的对象\n",
    "message = MIMEMultipart()\n",
    "\n",
    "# 发送邮箱地址\n",
    "message['From'] = from_addr\n",
    "\n",
    "# 收件箱地址\n",
    "message['To'] = ';'.join(to_addr)\n",
    "\n",
    "# 主题\n",
    "message['Subject'] = '邮件标题'\n",
    "\n",
    "# 推荐使用html格式的正文内容，这样比较灵活，可以附加图片地址，调整格式等\n",
    "with open('./output/bar1.html','rb') as f:\n",
    "    content = f.read()\n",
    "    #设置html格式参数\n",
    "    html_part = MIMEText(content,'html','utf-8')\n",
    "\n",
    "message.attach(html_part)"
   ]
  },
  {
   "cell_type": "markdown",
   "metadata": {},
   "source": [
    "## html格式的邮件需要注意的问题\n",
    "\n",
    "    1. 由于安全问题，邮箱判断html代码中的<script>不执行，所以需要解决自动添加时间的问题 \n",
    "      解决思路：利用 python 读取html时进行文本替换 \n",
    "\n",
    "    2. 发送html格式中带有本地图片的邮件，不能再html代码中直接加载显现\n",
    "      解决办法：需要将图片以附件的形式添加到邮件信息中。html直接读取附件 \n"
   ]
  },
  {
   "cell_type": "code",
   "execution_count": null,
   "metadata": {},
   "outputs": [],
   "source": [
    "# 添加时间（文本替换）\n",
    "with open('./output/bar1.html','r',encoding='utf-8') as file:\n",
    "    content = file.readlines()\n",
    "\n",
    "# 替换的时候需要注意，文本在读取出来的时候，每一行的开始或者是结尾 ，会存在 \\n \\t 这些字符,我们可以利用分行读取，分行处理的方式\n",
    "\n",
    "content_list = []\n",
    "for line in content:\n",
    "    content_list.append(line.strip())\n",
    "\n",
    "content = ''.join(content_list)\n",
    "\n",
    "# 将时间替换（由于html 被作为邮件的形式发送的时候js代码不执行）\n",
    "\n",
    "import datetime\n",
    "dateTime_p = datetime.datetime.now()\n",
    "str_p = datetime.datetime.strftime(dateTime_p,'%Y年%m月%d日')\n",
    "\n",
    "content = content.replace('now_self',str_p)\n",
    "\n",
    "with open('./日报.html','w',encoding='utf-8') as file:\n",
    "    file.write(content))"
   ]
  },
  {
   "cell_type": "markdown",
   "metadata": {},
   "source": [
    "## 完整发送邮件"
   ]
  },
  {
   "cell_type": "code",
   "execution_count": null,
   "metadata": {},
   "outputs": [],
   "source": [
    "# 用来发送邮件，包括构建邮件服务、登录、发送、退出等动作\n",
    "import smtplib\n",
    "# 构建邮件头信息，包括发件人、接收人、标题等\n",
    "from email.mime.multipart import MIMEMultipart\n",
    "# 构建邮件正文，可以使text或HTML\n",
    "from email.mime.text import MIMEText\n",
    "# 构建邮件标题的，可以支持标题中文\n",
    "from email.header import Header\n",
    "# 构建邮件附件\n",
    "from email.mime.application import MIMEApplication\n",
    "\n",
    "\n",
    "# 发送邮箱地址\n",
    "from_addr = '1562268871@qq.com'\n",
    "\n",
    "# 邮箱授权码，非登录密码\n",
    "password = ''\n",
    "\n",
    "# 收件箱地址，可以发多人\n",
    "to_addr = ['','','']\n",
    "\n",
    "# 邮箱服务器地址SMTPserver\n",
    "smtp_server = 'smtp.qq.com'\n",
    "\n",
    "# 创建一个邮件信息的对象\n",
    "message = MIMEMultipart()\n",
    "\n",
    "# 发送邮箱地址\n",
    "# message['From'] = from_addr\n",
    "\n",
    "# 解决收件箱中发件人名字\n",
    "from email.utils import formataddr\n",
    "message['From'] = formataddr(('panda',from_addr))\n",
    "\n",
    "# 收件箱地址\n",
    "message['To'] = ';'.join(to_addr)\n",
    "\n",
    "# 主题\n",
    "message['Subject'] = '邮件标题'\n",
    "\n",
    "with open('./output/bar1.html','rb') as f:\n",
    "    #设置html格式参数\n",
    "    html_part = MIMEText(f.read(),'html','utf-8')\n",
    "message.attach(html_part)\n",
    "\n",
    "# 设置正文图片(需要设置 图片与 html 的对应上)\n",
    "part_picture = MIMEApplication(open('./image/1.png','rb').read())\n",
    "part_picture.add_header('Content-ID','image01') #设置图片ID，插入正文\n",
    "message.attach(part_picture)\n",
    "\n",
    "\n",
    "# 邮件发送\n",
    "try:\n",
    "    # SMTP协议加密端口是465\n",
    "    server = smtplib.SMTP_SSL(smtp_server,465)\n",
    "    \n",
    "    # 登录服务器邮箱\n",
    "    server.login(from_addr,password)\n",
    "    \n",
    "    # 发送邮件\n",
    "    server.sendmail(from_addr,to_addr,message.as_string())\n",
    "    \n",
    "    # 退出服务器邮箱\n",
    "    server.quit()\n",
    "    \n",
    "    print('邮件发送成功')\n",
    "    \n",
    "except smtplib.SMTPException as e:\n",
    "    server.quit()\n",
    "    print('error',e)\n"
   ]
  }
 ],
 "metadata": {
  "kernelspec": {
   "display_name": "Python 3",
   "language": "python",
   "name": "python3"
  },
  "language_info": {
   "codemirror_mode": {
    "name": "ipython",
    "version": 3
   },
   "file_extension": ".py",
   "mimetype": "text/x-python",
   "name": "python",
   "nbconvert_exporter": "python",
   "pygments_lexer": "ipython3",
   "version": "3.7.6"
  }
 },
 "nbformat": 4,
 "nbformat_minor": 4
}
