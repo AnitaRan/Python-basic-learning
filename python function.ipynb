{
 "cells": [
  {
   "cell_type": "markdown",
   "metadata": {},
   "source": [
    "## 函数概念：本质上就是一个功能代码块"
   ]
  },
  {
   "cell_type": "markdown",
   "metadata": {},
   "source": [
    "### 1.函数的定义格式"
   ]
  },
  {
   "cell_type": "code",
   "execution_count": null,
   "metadata": {},
   "outputs": [],
   "source": [
    "# def 关键字修饰 函数名 参数(可选):\n",
    "\n",
    "def show():\n",
    "    #函数体里面来执行\n",
    "    print('我是张老师,今天上课很开心')\n",
    "    \n",
    "    \n",
    "#调用函数,才会执行函数体里面的代码\n",
    "#100 \n",
    "show()\n",
    "#100 \n",
    "show()"
   ]
  },
  {
   "cell_type": "markdown",
   "metadata": {},
   "source": [
    "### 2.函数四大类型"
   ]
  },
  {
   "cell_type": "code",
   "execution_count": null,
   "metadata": {},
   "outputs": [],
   "source": [
    "#(1)无参数无返回值函数\n",
    "def show():\n",
    "    print('haha')\n",
    "    \n",
    "result = show()\n",
    "print(result)"
   ]
  },
  {
   "cell_type": "code",
   "execution_count": null,
   "metadata": {},
   "outputs": [],
   "source": [
    "#(2)无参数有返回值\n",
    "def sum_num():\n",
    "    return 10 \n",
    "\n",
    "result = sum_num()\n",
    "print(result)"
   ]
  },
  {
   "cell_type": "code",
   "execution_count": null,
   "metadata": {},
   "outputs": [],
   "source": [
    "#(3)有参数无返回值\n",
    "def sum_num(a,b): \n",
    "    result = a+b \n",
    "    print(result)\n",
    "    \n",
    "sum_num(10,20)"
   ]
  },
  {
   "cell_type": "code",
   "execution_count": null,
   "metadata": {},
   "outputs": [],
   "source": [
    "#(4)有参数有返回值\n",
    "def sum_num(a,b):  \n",
    "    result = a + b \n",
    "    return result   #返回到方法的调用处\n",
    "    print('haha')   #没有走到这步，所以不会打印\n",
    "    \n",
    "value = sum_num(10,20)\n",
    "print(value)"
   ]
  },
  {
   "cell_type": "code",
   "execution_count": null,
   "metadata": {},
   "outputs": [],
   "source": [
    "#内置函数\n",
    "#需求过5秒钟打印helloword\n",
    "\n",
    "import time \n",
    "time.sleep(5)\n",
    "print('helloworld')"
   ]
  },
  {
   "cell_type": "markdown",
   "metadata": {},
   "source": [
    "### 3.局部变量和全局标量\n",
    "- 局部变量：在函数内部定义的变量,局部变量只可以在本函数内部使用\n",
    "- 全局变量：在函数外定义的变量,特点:可以在任意地方使用"
   ]
  },
  {
   "cell_type": "code",
   "execution_count": null,
   "metadata": {},
   "outputs": [],
   "source": [
    "def show():\n",
    "    score = 100 \n",
    "    print(score)\n",
    "show()"
   ]
  },
  {
   "cell_type": "code",
   "execution_count": null,
   "metadata": {},
   "outputs": [],
   "source": [
    "score = 100 \n",
    "def show():\n",
    "    #定义了一个局部变量score,只不过这个局部变量名字和全局变量一样\n",
    "    score = 99 \n",
    "show()\n",
    "print(score)"
   ]
  },
  {
   "cell_type": "code",
   "execution_count": null,
   "metadata": {},
   "outputs": [],
   "source": [
    "score = 100 \n",
    "def show():\n",
    "    #需求:在函数体里面修改全局变量\n",
    "    #global表示对全局变量global进行修改\n",
    "    global score \n",
    "    score = 99 \n",
    "show()\n",
    "print(score)"
   ]
  },
  {
   "cell_type": "markdown",
   "metadata": {},
   "source": [
    "### 4.调用参数的方式两种:位置传参和关键字传参\n",
    "- 注意点：不可以前面使用关键字传参,后面使用位置传参\n",
    "- 建议：只是用一种方式传参"
   ]
  },
  {
   "cell_type": "code",
   "execution_count": null,
   "metadata": {},
   "outputs": [],
   "source": [
    "def show(name,age):\n",
    "    print(name,age)\n",
    "\n",
    "show(18,'zhangsan')\n",
    "\n",
    "# 关键字传参\n",
    "show(age=18,name=\"张三\")\n",
    "\n",
    "# 不可以前面使用关键字传参,后面使用位置传参\n",
    "# show(age=18,\"张三\")"
   ]
  },
  {
   "cell_type": "markdown",
   "metadata": {},
   "source": [
    "### 5.默认参数(缺省参数)\n",
    "- 如果不给缺省参数传递值的话,使用默认值\n",
    "- 注意:缺省参数必须放在必选参数后面"
   ]
  },
  {
   "cell_type": "code",
   "execution_count": null,
   "metadata": {},
   "outputs": [],
   "source": [
    "def sum_num(num1,num2=10):\n",
    "    print(num1+num2)\n",
    "    \n",
    "sum_num(num1=10)"
   ]
  },
  {
   "cell_type": "markdown",
   "metadata": {},
   "source": [
    "### 6.不定长参数--不定长位置参数，不定长关键字参数\n",
    "- 总结:不定长关键字参数必须放在最后；调用的时候,关键字传参方式也必须放在最后"
   ]
  },
  {
   "cell_type": "code",
   "execution_count": null,
   "metadata": {},
   "outputs": [],
   "source": [
    "#正确的(常规写法)\n",
    "def show(name,age,*args,**kwargs,):\n",
    "    print(name,age,args,kwargs)\n",
    "    \n",
    "#正确调用方式\n",
    "show('张三',18,1,2,3,aa=1)"
   ]
  },
  {
   "cell_type": "code",
   "execution_count": null,
   "metadata": {},
   "outputs": [],
   "source": [
    "#不定长关键字参数\n",
    "\n",
    "def show_msg(**kwargs):\n",
    "    print(kwargs,type(kwargs))\n",
    "    #传递过来的参数keyvalue全都打印出来\n",
    "    for key,value in kwargs.items():\n",
    "        print(key,value)\n",
    "    #感兴趣:使用关键字传参的方式实现求和的功能\n",
    "\n",
    "show_msg(aa=18,bb=20,cc=30)"
   ]
  },
  {
   "cell_type": "code",
   "execution_count": null,
   "metadata": {},
   "outputs": [],
   "source": [
    "#不定长位置参数---------------\n",
    "#注意:*args 代码约定俗称,改变成其他名字不会报错,但不要改\n",
    "\n",
    "def show_msg(*args):     \n",
    "    result = 0     \n",
    "    for value in args:          \n",
    "        result += value         \n",
    "    return result \n",
    "    \n",
    "result = show_msg(1,2,3,2,3,3,3,3,3,4) \n",
    "print(result) "
   ]
  },
  {
   "cell_type": "code",
   "execution_count": null,
   "metadata": {},
   "outputs": [],
   "source": [
    "def show_msg(*args):     \n",
    "    result = 0     \n",
    "    for value in args:          \n",
    "        result += value         \n",
    "    print(result) \n",
    "    \n",
    "show_msg(1,2,3,2,3,3,3,3,3,4) "
   ]
  },
  {
   "cell_type": "code",
   "execution_count": null,
   "metadata": {},
   "outputs": [],
   "source": [
    "#必须使用关键字传参的方式 *\n",
    "def call_able(address,sex,*,name,age):\n",
    "    print(address,sex,name,age)\n",
    "\n",
    "call_able(1,2,name='lisi',age=18)"
   ]
  },
  {
   "cell_type": "markdown",
   "metadata": {},
   "source": [
    "### 递归函数：在函数体里面调用本身，必须要设置结束递归条件\n",
    "- 递归的特点：传递和回归\n",
    "- 很少会用到递归函数,极端情况下,极其好用,思维方式"
   ]
  },
  {
   "cell_type": "code",
   "execution_count": null,
   "metadata": {},
   "outputs": [],
   "source": [
    "#阶乘\n",
    "#5! = 5*4!\n",
    "#4! = 4 *3!\n",
    "#3! = 3 *2!\n",
    "#1! = 1\n",
    "\n",
    "def calc_num(num):\n",
    "    #当计算1的时候阶乘返回1就可以\n",
    "    #结束递归的条件\n",
    "    if num == 1:\n",
    "        return 1    \n",
    "    else:        \n",
    "        return num *calc_num(num-1)\n",
    "\n",
    "result = calc_num(5)\n",
    "print(result)"
   ]
  },
  {
   "cell_type": "code",
   "execution_count": 1,
   "metadata": {},
   "outputs": [
    {
     "name": "stdout",
     "output_type": "stream",
     "text": [
      "3000\n"
     ]
    }
   ],
   "source": [
    "# 编辑器默认有递归次数(jupyter超过3000 直接报错, pychram 1000)\n",
    "\n",
    "#获取默认的最大的递归次数\n",
    "import sys \n",
    "result = sys.getrecursionlimit()\n",
    "print(result)\n",
    "\n",
    "#设置递归次数\n",
    "# sys.setrecursionlimit(10000)\n",
    "# result = calc_num(5000)\n",
    "# print(result)"
   ]
  },
  {
   "cell_type": "code",
   "execution_count": null,
   "metadata": {},
   "outputs": [],
   "source": []
  }
 ],
 "metadata": {
  "kernelspec": {
   "display_name": "Python 3",
   "language": "python",
   "name": "python3"
  },
  "language_info": {
   "codemirror_mode": {
    "name": "ipython",
    "version": 3
   },
   "file_extension": ".py",
   "mimetype": "text/x-python",
   "name": "python",
   "nbconvert_exporter": "python",
   "pygments_lexer": "ipython3",
   "version": "3.7.6"
  }
 },
 "nbformat": 4,
 "nbformat_minor": 4
}
